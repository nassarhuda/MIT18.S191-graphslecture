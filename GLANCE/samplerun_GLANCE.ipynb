{
 "cells": [
  {
   "cell_type": "markdown",
   "metadata": {},
   "source": [
    "## A notebook to help you use the GLANCE method. "
   ]
  },
  {
   "cell_type": "code",
   "execution_count": 1,
   "metadata": {},
   "outputs": [
    {
     "name": "stdout",
     "output_type": "stream",
     "text": [
      "\u001b[32m\u001b[1m  Building\u001b[22m\u001b[39m Conda ─→ `~/.julia/packages/Conda/3rPhK/deps/build.log`\n",
      "\u001b[32m\u001b[1m  Building\u001b[22m\u001b[39m PyCall → `~/.julia/packages/PyCall/zqDXB/deps/build.log`\n"
     ]
    },
    {
     "data": {
      "text/plain": [
       "PyObject <module 'numpy' from '/Users/hnassar/.julia/conda/3/lib/python3.7/site-packages/numpy/__init__.py'>"
      ]
     },
     "execution_count": 1,
     "metadata": {},
     "output_type": "execute_result"
    }
   ],
   "source": [
    "#packages that we will use\n",
    "using MAT\n",
    "using MatrixNetworks\n",
    "using ScikitLearn\n",
    "include(\"includeall.jl\")"
   ]
  },
  {
   "cell_type": "markdown",
   "metadata": {},
   "source": [
    "First, let's get some data. For this example, we will use the smallest dataset from the FB100 dataset, the Caltech36 dataset. In this data, we have attribute values in the vector `labels`. Here, `labels[i]` correspond to a unique number of the dorm where student `i` resided."
   ]
  },
  {
   "cell_type": "code",
   "execution_count": 2,
   "metadata": {},
   "outputs": [],
   "source": [
    "T = MAT.matopen(\"Caltech36.mat\")\n",
    "attributes = read(T,\"local_info\")\n",
    "A = read(T,\"A\")\n",
    "A,lccv = largest_component(A);\n",
    "attributes = attributes[lccv,:];\n",
    "clabels = attributes[:,5]\n",
    ";"
   ]
  },
  {
   "cell_type": "code",
   "execution_count": 3,
   "metadata": {},
   "outputs": [
    {
     "data": {
      "text/plain": [
       "GLANCE (generic function with 1 method)"
      ]
     },
     "execution_count": 3,
     "metadata": {},
     "output_type": "execute_result"
    }
   ],
   "source": [
    "function GLANCE(A;TSfunction=x->x,fromk=3,tok=20,trialnb=50000,mydims = 25)\n",
    "    cc = scomponents(A)\n",
    "    @assert length(cc.sizes) == 1\n",
    "    @assert issymmetric(A)\n",
    "    tfn = TSNE(n_components=2)\n",
    "    # step 1: Turan Shadow reweighting\n",
    "    G = TuranShadow_matrix(A,TSfunction,fromk,tok,1,trialnb)\n",
    "    # step 2: Embedding on the new weighted matrix\n",
    "    x2,x3,X = x2_x3_from_spectral_embedding(G;tol=1e-12,maxiter=300,dense=96,nev=mydims,checksym=true)\n",
    "    # step 3: transform via t-sne\n",
    "    xy_coords = tfn.fit_transform(X)\n",
    "    return xy_coords\n",
    "end"
   ]
  },
  {
   "cell_type": "code",
   "execution_count": 4,
   "metadata": {},
   "outputs": [
    {
     "name": "stdout",
     "output_type": "stream",
     "text": [
      "size(X) = (762, 25)\n"
     ]
    }
   ],
   "source": [
    "xy = GLANCE(A);"
   ]
  },
  {
   "cell_type": "code",
   "execution_count": 5,
   "metadata": {},
   "outputs": [
    {
     "data": {
      "text/plain": [
       "regenerate_ppr_plots (generic function with 1 method)"
      ]
     },
     "execution_count": 5,
     "metadata": {},
     "output_type": "execute_result"
    }
   ],
   "source": [
    "include(\"vis_paper.jl\")"
   ]
  },
  {
   "cell_type": "code",
   "execution_count": 6,
   "metadata": {},
   "outputs": [
    {
     "name": "stdout",
     "output_type": "stream",
     "text": [
      "Compressing counts... 2545 / 16651\n",
      "Compressing counts... 5044 / 16651\n",
      "Compressing counts... 7498 / 16651\n",
      "Compressing counts... 10148 / 16651\n",
      "Compressing counts... 12498 / 16651\n",
      "Compressing counts... 14920 / 16651\n",
      " 15.132297 seconds (8.79 M allocations: 733.391 MiB, 3.70% gc time)\n"
     ]
    }
   ],
   "source": [
    "generate_nice_plot(xy,A,\"Glance_layout.png\";labels=clabels,invpermval=true,mymarkeralpha=0.6,mymarkersize=2)"
   ]
  },
  {
   "cell_type": "markdown",
   "metadata": {},
   "source": [
    "And the image will be saved in the same folder. Note that we use this method to save to a file directly because we produce a high resolution image and it may break your browser."
   ]
  }
 ],
 "metadata": {
  "kernelspec": {
   "display_name": "Julia 1.2.0",
   "language": "julia",
   "name": "julia-1.2"
  },
  "language_info": {
   "file_extension": ".jl",
   "mimetype": "application/julia",
   "name": "julia",
   "version": "1.2.0"
  }
 },
 "nbformat": 4,
 "nbformat_minor": 2
}
